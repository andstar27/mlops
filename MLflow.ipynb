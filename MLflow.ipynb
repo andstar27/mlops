{
 "cells": [
  {
   "cell_type": "code",
   "id": "initial_id",
   "metadata": {
    "collapsed": true,
    "ExecuteTime": {
     "end_time": "2024-06-13T11:43:00.422876Z",
     "start_time": "2024-06-13T11:43:00.418426Z"
    }
   },
   "source": [
    ""
   ],
   "outputs": [],
   "execution_count": null
  },
  {
   "metadata": {
    "ExecuteTime": {
     "end_time": "2024-06-13T11:43:13.366990Z",
     "start_time": "2024-06-13T11:43:00.428876Z"
    }
   },
   "cell_type": "code",
   "source": [
    "import mlflow.sklearn\n",
    "from mlflow.models.signature import infer_signature\n",
    "from sklearn.metrics import accuracy_score, precision_score, recall_score, f1_score\n",
    "from sklearn import datasets\n",
    "from sklearn.model_selection import train_test_split\n",
    "from sklearn.linear_model import LogisticRegression\n",
    "\n",
    "# Load the Iris dataset\n",
    "X, y = datasets.load_iris(return_X_y=True)\n",
    "\n",
    "# Split the data into training and test sets\n",
    "X_train, X_test, y_train, y_test = train_test_split(X, y, test_size=0.2, random_state=42)\n",
    "\n",
    "params = { \"solver\": \"lbfgs\", \n",
    "           \"max_iter\": 500, \n",
    "           \"random_state\": 42\n",
    "           }\n",
    "\n",
    "# Define and train the model\n",
    "model = LogisticRegression(**params)\n",
    "model.fit(X_train, y_train)\n",
    "# Set the tracking URI to point to your local MLflow server\n",
    "mlflow.set_tracking_uri(\"http://127.0.0.1:5000\")\n",
    "\n",
    "# Start an MLflow experiment\n",
    "mlflow.set_experiment(\"Test\")\n",
    "\n",
    "# Predict and calculate metrics\n",
    "y_pred = model.predict(X_test)\n",
    "\n",
    "# Infer the model signature\n",
    "signature = infer_signature(X_train, y_pred)\n",
    "\n",
    "# Log the model with signature and example input\n",
    "with mlflow.start_run() as run:\n",
    "    mlflow.sklearn.log_model(sk_model = model, artifact_path = \"model\", signature=signature, input_example=X_train, registered_model_name = \"test1\")\n",
    "    \n",
    "     # Calculate metrics and log them and parameters\n",
    "    accuracy = accuracy_score(y_test, y_pred)\n",
    "    mlflow.log_metric(\"accuracy\", accuracy)\n",
    "    precision = precision_score(y_test, y_pred, average=\"macro\")\n",
    "    mlflow.log_metric(\"precision\", precision)\n",
    "    recall = recall_score(y_test, y_pred, average=\"macro\")\n",
    "    mlflow.log_metric(\"recall\", recall)\n",
    "    f1 = f1_score(y_test, y_pred, average=\"macro\")\n",
    "    mlflow.log_metric(\"f1\", f1)\n",
    "    mlflow.log_param(\"solver\", params)\n",
    "    mlflow.log_param(\"max_iter\", params)\n",
    "    mlflow.log_param(\"random_state\",params)\n",
    "    \n",
    "    mlflow.set_tag(\"Training Info\", \"Basic LR model for iris data\")\n"
   ],
   "id": "a4454c04ecc8e60e",
   "outputs": [
    {
     "name": "stderr",
     "output_type": "stream",
     "text": [
      "Registered model 'test1' already exists. Creating a new version of this model...\n",
      "2024/06/13 14:43:13 INFO mlflow.store.model_registry.abstract_store: Waiting up to 300 seconds for model version to finish creation. Model name: test1, version 4\n",
      "Created version '4' of model 'test1'.\n"
     ]
    }
   ],
   "execution_count": 1
  },
  {
   "metadata": {
    "ExecuteTime": {
     "end_time": "2024-06-13T11:43:13.371098Z",
     "start_time": "2024-06-13T11:43:13.367996Z"
    }
   },
   "cell_type": "code",
   "source": "",
   "id": "9ab638b282932ae1",
   "outputs": [],
   "execution_count": 1
  }
 ],
 "metadata": {
  "kernelspec": {
   "display_name": "Python 3",
   "language": "python",
   "name": "python3"
  },
  "language_info": {
   "codemirror_mode": {
    "name": "ipython",
    "version": 2
   },
   "file_extension": ".py",
   "mimetype": "text/x-python",
   "name": "python",
   "nbconvert_exporter": "python",
   "pygments_lexer": "ipython2",
   "version": "2.7.6"
  }
 },
 "nbformat": 4,
 "nbformat_minor": 5
}
